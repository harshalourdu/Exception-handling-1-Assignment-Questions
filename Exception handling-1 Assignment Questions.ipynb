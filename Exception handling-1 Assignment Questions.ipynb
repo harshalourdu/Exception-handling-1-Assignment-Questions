{
 "cells": [
  {
   "cell_type": "markdown",
   "metadata": {},
   "source": [
    "Q1. What is an Exception in python? Write the difference between Exceptions and Syntax errors.\n",
    "\n",
    "Q2. What happens when an exception is not handled? Explain with an example.\n",
    "\n",
    "Q3. Which Python statements are used to catch and handle exceptions? Explain with an example.\n",
    "\n",
    "Q4. Explain with an example:#\n",
    " try and else#\n",
    " finall\n",
    "+ raise\n",
    "\n",
    "Q5. What are Custom Exceptions in python? Why do we need Custom Exceptions? Explain with an example.\n",
    "\n",
    "Q6. Create a custom exception class. Use this class to handle an exception."
   ]
  },
  {
   "cell_type": "markdown",
   "metadata": {},
   "source": [
    "# 1. \n",
    "\n",
    "1. Definition\tErrors that occur during program execution.\tErrors in the code structure that prevent the program from running.\n",
    "2. Cause\tHappens during runtime.\tHappens when the Python interpreter parses the code.\n",
    "3. Handling\tCan be handled using try-except blocks.\tCannot be handled; you need to fix the code.\n",
    "4. Example\tZeroDivisionError, FileNotFoundError\tprint('Hello' (missing closing parenthesis)\n"
   ]
  },
  {
   "cell_type": "code",
   "execution_count": 5,
   "metadata": {},
   "outputs": [
    {
     "name": "stdout",
     "output_type": "stream",
     "text": [
      "This will not be printed.\n"
     ]
    }
   ],
   "source": [
    "# 2. \n",
    "# Example of unhandled exception\n",
    "x = 10\n",
    "y = 0\n",
    "\n",
    "result = x / y # This will cause a division by zero error\n",
    "\n",
    "print(\"This will not be printed.\")\n"
   ]
  },
  {
   "cell_type": "code",
   "execution_count": 8,
   "metadata": {},
   "outputs": [
    {
     "name": "stdout",
     "output_type": "stream",
     "text": [
      "Cannot divide by zero!\n"
     ]
    }
   ],
   "source": [
    "\n",
    "# 3.\n",
    "try:\n",
    "    # Code that might cause an exception\n",
    "    x = 10\n",
    "    y = 0\n",
    "    result = x / y  # This will cause ZeroDivisionError\n",
    "except ZeroDivisionError:\n",
    "    print(\"Cannot divide by zero!\")\n",
    "\n"
   ]
  },
  {
   "cell_type": "code",
   "execution_count": 7,
   "metadata": {},
   "outputs": [
    {
     "name": "stdout",
     "output_type": "stream",
     "text": [
      "The result is: 2.0\n",
      "This will always run.\n"
     ]
    }
   ],
   "source": [
    "# 4. \n",
    "\n",
    "try:\n",
    "    num1 = 10\n",
    "    num2 = 5\n",
    "    result = num1 / num2  # No exception here\n",
    "except ZeroDivisionError:\n",
    "    print(\"Cannot divide by zero!\")\n",
    "else:\n",
    "    print(f\"The result is: {result}\")  # This runs because no exception occurred\n",
    "finally:\n",
    "    print(\"This will always run.\")  # This will always run, even if there's an exception\n"
   ]
  },
  {
   "cell_type": "code",
   "execution_count": 9,
   "metadata": {},
   "outputs": [
    {
     "name": "stdout",
     "output_type": "stream",
     "text": [
      "Error: Age must be 18 or older.\n"
     ]
    }
   ],
   "source": [
    "# 5. \n",
    "\n",
    "# Creating a custom exception\n",
    "class InvalidAgeError(Exception):\n",
    "    def __init__(self, message):\n",
    "        self.message = message\n",
    "        super().__init__(self.message)\n",
    "\n",
    "# Function that checks for valid age\n",
    "def check_age(age):\n",
    "    if age < 18:\n",
    "        raise InvalidAgeError(\"Age must be 18 or older.\")\n",
    "    else:\n",
    "        print(\"Age is valid.\")\n",
    "\n",
    "try:\n",
    "    check_age(15)\n",
    "except InvalidAgeError as e:\n",
    "    print(f\"Error: {e}\")\n"
   ]
  },
  {
   "cell_type": "code",
   "execution_count": 10,
   "metadata": {},
   "outputs": [
    {
     "name": "stdout",
     "output_type": "stream",
     "text": [
      "Error: Cannot withdraw 150. Only 100 available.\n"
     ]
    }
   ],
   "source": [
    "# 6. \n",
    "\n",
    "# Custom Exception class\n",
    "class InsufficientFundsError(Exception):\n",
    "    def __init__(self, message=\"Insufficient funds in your account.\"):\n",
    "        self.message = message\n",
    "        super().__init__(self.message)\n",
    "\n",
    "# Bank Account class\n",
    "class BankAccount:\n",
    "    def __init__(self, balance):\n",
    "        self.balance = balance\n",
    "\n",
    "    def withdraw(self, amount):\n",
    "        if amount > self.balance:\n",
    "            raise InsufficientFundsError(f\"Cannot withdraw {amount}. Only {self.balance} available.\")\n",
    "        self.balance -= amount\n",
    "        print(f\"Withdrawal successful. New balance: {self.balance}\")\n",
    "\n",
    "# Example usage\n",
    "account = BankAccount(100)\n",
    "\n",
    "try:\n",
    "    account.withdraw(150)  # This will raise the custom exception\n",
    "except InsufficientFundsError as e:\n",
    "    print(f\"Error: {e}\")\n",
    "\n"
   ]
  },
  {
   "cell_type": "code",
   "execution_count": null,
   "metadata": {},
   "outputs": [],
   "source": []
  }
 ],
 "metadata": {
  "kernelspec": {
   "display_name": "Python 3",
   "language": "python",
   "name": "python3"
  },
  "language_info": {
   "codemirror_mode": {
    "name": "ipython",
    "version": 3
   },
   "file_extension": ".py",
   "mimetype": "text/x-python",
   "name": "python",
   "nbconvert_exporter": "python",
   "pygments_lexer": "ipython3",
   "version": "3.11.9"
  }
 },
 "nbformat": 4,
 "nbformat_minor": 2
}
